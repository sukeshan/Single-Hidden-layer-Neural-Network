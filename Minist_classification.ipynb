{
 "cells": [
  {
   "cell_type": "markdown",
   "id": "21844aff",
   "metadata": {},
   "source": [
    "# Importing Libraries"
   ]
  },
  {
   "cell_type": "code",
   "execution_count": 2,
   "id": "obvious-looking",
   "metadata": {},
   "outputs": [
    {
     "name": "stderr",
     "output_type": "stream",
     "text": [
      "c:\\Users\\Asus\\Anaconda3\\envs\\tablet\\lib\\site-packages\\numpy\\_distributor_init.py:32: UserWarning: loaded more than 1 DLL from .libs:\n",
      "c:\\Users\\Asus\\Anaconda3\\envs\\tablet\\lib\\site-packages\\numpy\\.libs\\libopenblas.PYQHXLVVQ7VESDPUVUADXEVJOBGHJPAY.gfortran-win_amd64.dll\n",
      "c:\\Users\\Asus\\Anaconda3\\envs\\tablet\\lib\\site-packages\\numpy\\.libs\\libopenblas.XWYDX2IKJW2NMTWSFYNGFUWKQU3LYTCZ.gfortran-win_amd64.dll\n",
      "  stacklevel=1)\n"
     ]
    }
   ],
   "source": [
    "import numpy as np\n",
    "import matplotlib.pyplot as plt\n",
    "import pandas as pd\n",
    "from tensorflow.keras.utils import to_categorical\n",
    "from sklearn.model_selection import train_test_split\n",
    "import tensorflow as tf \n",
    "from Neural_Networks_Modules import *\n"
   ]
  },
  {
   "cell_type": "markdown",
   "id": "ec3780a8",
   "metadata": {},
   "source": [
    "# MNIST DataSet"
   ]
  },
  {
   "cell_type": "code",
   "execution_count": 4,
   "id": "d3393b75",
   "metadata": {},
   "outputs": [],
   "source": [
    "tf.keras.datasets.mnist.load_data(path=\"mnist.npz\")\n",
    "(X_train, Y_train), (X_test, Y_test) = tf.keras.datasets.mnist.load_data()\n",
    "X_train =X_train.T\n",
    "X_test = X_test.T\n",
    " "
   ]
  },
  {
   "cell_type": "code",
   "execution_count": 5,
   "id": "continental-paragraph",
   "metadata": {},
   "outputs": [
    {
     "name": "stdout",
     "output_type": "stream",
     "text": [
      "shape of X_train : (28, 28, 60000)\n",
      "shape of Y_train : (60000,)\n",
      "shape of X_test : (28, 28, 10000)\n",
      "shape of Y_test : (10000,)\n"
     ]
    }
   ],
   "source": [
    "# Shape of the train and test Data set \n",
    "print(\"shape of X_train :\", X_train.shape)\n",
    "print(\"shape of Y_train :\", Y_train.shape)\n",
    "print(\"shape of X_test :\", X_test.shape)\n",
    "print(\"shape of Y_test :\", Y_test.shape)"
   ]
  },
  {
   "cell_type": "code",
   "execution_count": 9,
   "id": "certain-elizabeth",
   "metadata": {},
   "outputs": [
    {
     "data": {
      "image/png": "[encoded data removed]",
      "text/plain": [
       "<Figure size 432x288 with 1 Axes>"
      ]
     },
     "metadata": {
      "needs_background": "light"
     },
     "output_type": "display_data"
    }
   ],
   "source": [
    "# Visualize a datapoint using Matplotlib \n",
    "index = random.randrange(0, X_train.shape[1])\n",
    "plt.imshow(X_train[:, index].reshape(28, 28), cmap = 'gray')\n",
    "plt.show()"
   ]
  },
  {
   "cell_type": "markdown",
   "id": "medical-wagner",
   "metadata": {},
   "source": [
    "# Model\n"
   ]
  },
  {
   "cell_type": "code",
   "execution_count": 1,
   "id": "c8188b46",
   "metadata": {},
   "outputs": [
    {
     "name": "stdout",
     "output_type": "stream",
     "text": [
      "epoch 0 is  completed\n",
      "epoch 1 is  completed\n",
      "epoch 2 is  completed\n",
      "epoch 3 is  completed\n",
      "epoch 4 is  completed\n",
      "epoch 5 is  completed\n",
      "epoch 6 is  completed\n",
      "epoch 7 is  completed\n",
      "epoch 8 is  completed\n",
      "epoch 9 is  completed\n",
      "epoch 10 is  completed\n",
      "epoch 11 is  completed\n",
      "epoch 12 is  completed\n",
      "epoch 13 is  completed\n",
      "epoch 14 is  completed\n"
     ]
    }
   ],
   "source": [
    "iterations = 15\n",
    "n_h = 1000\n",
    "learning_rate = 0.02\n",
    "Parameters, train_cost_list ,test_cost_list = model(train_input = X_train,train_output =  Y_train, hidden_unit=  n_h, learning_rate = learning_rate, iterations = iterations ,test_input = X_test ,test_output = Y_test)"
   ]
  },
  {
   "cell_type": "code",
   "execution_count": 57,
   "id": "finished-superintendent",
   "metadata": {},
   "outputs": [
    {
     "data": {
      "image/png": "[encoded data removed]",
      "text/plain": [
       "<Figure size 432x288 with 1 Axes>"
      ]
     },
     "metadata": {
      "needs_background": "light"
     },
     "output_type": "display_data"
    },
    {
     "name": "stdout",
     "output_type": "stream",
     "text": [
      "Our model says it is : 9\n"
     ]
    }
   ],
   "source": [
    "idx = int(random.randrange(0,X_test.shape[1]))\n",
    "plt.imshow(X_test[:, idx].reshape((28,28)),cmap='gray')\n",
    "plt.show()\n",
    "\n",
    "cache = forward_propagation(X_test[:, idx].reshape(X_test[:, idx].shape[0], 1), Parameters)\n",
    "a_pred = cache['a2']  \n",
    "a_pred = np.argmax(a_pred, 0)\n",
    "\n",
    "print(\"Our model says it is :\", a_pred[0])"
   ]
  }
 ],
 "metadata": {
  "kernelspec": {
   "display_name": "Python 3.7.1 ('tablet')",
   "language": "python",
   "name": "python3"
  },
  "language_info": {
   "codemirror_mode": {
    "name": "ipython",
    "version": 3
   },
   "file_extension": ".py",
   "mimetype": "text/x-python",
   "name": "python",
   "nbconvert_exporter": "python",
   "pygments_lexer": "ipython3",
   "version": "3.7.1"
  },
  "vscode": {
   "interpreter": {
    "hash": "196154e5beaa1895d062800312cf461b5a92b6e6065bc2398e6ac4d35effd202"
   }
  }
 },
 "nbformat": 4,
 "nbformat_minor": 5
}
